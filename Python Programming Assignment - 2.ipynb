{
 "cells": [
  {
   "cell_type": "markdown",
   "id": "23394902",
   "metadata": {},
   "source": [
    "# Python Programming Assignment - 2"
   ]
  },
  {
   "cell_type": "markdown",
   "id": "1c286d53",
   "metadata": {},
   "source": [
    "1. Write a Python program to convert kilometers to miles?"
   ]
  },
  {
   "cell_type": "code",
   "execution_count": 3,
   "id": "b3506bb3",
   "metadata": {},
   "outputs": [
    {
     "name": "stdout",
     "output_type": "stream",
     "text": [
      "Enter number of Kilometers:  5\n",
      "Kilometers ---> Miles : 3.1068499999999997\n"
     ]
    }
   ],
   "source": [
    "def km_mil():\n",
    "    km = int(input(\"Enter number of Kilometers:  \"))\n",
    "    mil = km*0.62137\n",
    "    print(\"Kilometers ---> Miles : {}\".format(mil))\n",
    "\n",
    "km_mil()"
   ]
  },
  {
   "cell_type": "markdown",
   "id": "6e98d7f8",
   "metadata": {},
   "source": [
    "  "
   ]
  },
  {
   "cell_type": "markdown",
   "id": "528498df",
   "metadata": {},
   "source": [
    "2. Write a Python program to convert Celsius to Fahrenheit?"
   ]
  },
  {
   "cell_type": "code",
   "execution_count": 10,
   "id": "ff9f0128",
   "metadata": {},
   "outputs": [
    {
     "name": "stdout",
     "output_type": "stream",
     "text": [
      "Enter Temperature in Celcius:  30\n",
      "Celsius -----> Fahrenheit: 86F\n"
     ]
    }
   ],
   "source": [
    "def cel_fah():\n",
    "    temp = float(input(\"Enter Temperature in Celcius:  \"))\n",
    "    fah = (temp * 1.8)+32\n",
    "    print(\"Celsius -----> Fahrenheit: {}F\".format(int(fah)))\n",
    "    \n",
    "\n",
    "cel_fah()"
   ]
  },
  {
   "cell_type": "markdown",
   "id": "988d0d98",
   "metadata": {},
   "source": [
    "  "
   ]
  },
  {
   "cell_type": "markdown",
   "id": "d8ebee0b",
   "metadata": {},
   "source": [
    "3. Write a Python program to display calendar?"
   ]
  },
  {
   "cell_type": "code",
   "execution_count": 2,
   "id": "dd6e8267",
   "metadata": {
    "scrolled": true
   },
   "outputs": [
    {
     "name": "stdout",
     "output_type": "stream",
     "text": [
      "ENTER YEAR : 2023\n",
      "ENTER MONTH: 2\n",
      "   February 2023\n",
      "Mo Tu We Th Fr Sa Su\n",
      "       1  2  3  4  5\n",
      " 6  7  8  9 10 11 12\n",
      "13 14 15 16 17 18 19\n",
      "20 21 22 23 24 25 26\n",
      "27 28\n",
      "\n"
     ]
    }
   ],
   "source": [
    "import calendar\n",
    "\n",
    "yy = int(input(\"ENTER YEAR : \"))\n",
    "mm = int(input(\"ENTER MONTH: \"))\n",
    "\n",
    "print(calendar.month(yy,mm))"
   ]
  },
  {
   "cell_type": "markdown",
   "id": "db434c93",
   "metadata": {},
   "source": [
    " "
   ]
  },
  {
   "cell_type": "markdown",
   "id": "a3c54e47",
   "metadata": {},
   "source": [
    "4. Write a Python program to solve quadratic equation?"
   ]
  },
  {
   "cell_type": "code",
   "execution_count": 3,
   "id": "34a1f1bd",
   "metadata": {},
   "outputs": [
    {
     "name": "stdout",
     "output_type": "stream",
     "text": [
      "Enter a: 10\n",
      "Enter b: 20\n",
      "Enter c: 30\n",
      "The solution are (-1-1.4142135623730951j) and (-1+1.4142135623730951j)\n"
     ]
    }
   ],
   "source": [
    "import cmath  \n",
    "a = float(input('Enter a: '))  \n",
    "b = float(input('Enter b: '))  \n",
    "c = float(input('Enter c: '))  \n",
    "d = (b**2) - (4*a*c)  \n",
    "  \n",
    "sol1 = (-b-cmath.sqrt(d))/(2*a)  \n",
    "sol2 = (-b+cmath.sqrt(d))/(2*a)  \n",
    "print('The solution are {0} and {1}'.format(sol1,sol2))   "
   ]
  },
  {
   "cell_type": "markdown",
   "id": "4a18f8f1",
   "metadata": {},
   "source": [
    "  "
   ]
  },
  {
   "cell_type": "markdown",
   "id": "fb4d2423",
   "metadata": {},
   "source": [
    "5. Write a Python program to swap two variables without temp variable?"
   ]
  },
  {
   "cell_type": "code",
   "execution_count": 7,
   "id": "a0203343",
   "metadata": {},
   "outputs": [
    {
     "name": "stdout",
     "output_type": "stream",
     "text": [
      "Enter number 1 : 40\n",
      "Emter number 2 : 50\n",
      "Numbers before swapping = a:40, b:50\n",
      "Numbers after swapping = a:50, b:40\n"
     ]
    }
   ],
   "source": [
    "a = input(\"Enter number 1 : \")\n",
    "b = input(\"Emter number 2 : \")\n",
    "\n",
    "print(f\"Numbers before swapping = a:{a}, b:{b}\")\n",
    "\n",
    "a,b = b,a\n",
    "\n",
    "print(f\"Numbers after swapping = a:{a}, b:{b}\")"
   ]
  }
 ],
 "metadata": {
  "kernelspec": {
   "display_name": "Python 3 (ipykernel)",
   "language": "python",
   "name": "python3"
  },
  "language_info": {
   "codemirror_mode": {
    "name": "ipython",
    "version": 3
   },
   "file_extension": ".py",
   "mimetype": "text/x-python",
   "name": "python",
   "nbconvert_exporter": "python",
   "pygments_lexer": "ipython3",
   "version": "3.9.13"
  }
 },
 "nbformat": 4,
 "nbformat_minor": 5
}
