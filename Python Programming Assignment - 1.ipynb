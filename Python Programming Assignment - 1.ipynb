{
 "cells": [
  {
   "cell_type": "markdown",
   "id": "5a316f3c",
   "metadata": {},
   "source": [
    "# Python Programming Assignment 1 "
   ]
  },
  {
   "cell_type": "markdown",
   "id": "6f3dd1ac",
   "metadata": {},
   "source": [
    "1. Write a Python program to print \"Hello Python\"?"
   ]
  },
  {
   "cell_type": "code",
   "execution_count": 1,
   "id": "05130501",
   "metadata": {},
   "outputs": [
    {
     "name": "stdout",
     "output_type": "stream",
     "text": [
      "Hello Python\n"
     ]
    }
   ],
   "source": [
    "print(\"Hello Python\")"
   ]
  },
  {
   "cell_type": "raw",
   "id": "7be23caa",
   "metadata": {},
   "source": []
  },
  {
   "cell_type": "raw",
   "id": "e70a493b",
   "metadata": {},
   "source": [
    "2. Write a Python program to do arithmetical operations addition and division.?"
   ]
  },
  {
   "cell_type": "code",
   "execution_count": 10,
   "id": "92f4fa77",
   "metadata": {},
   "outputs": [
    {
     "name": "stdout",
     "output_type": "stream",
     "text": [
      "Enter one integer: 20\n",
      "Enter one integer: 10\n",
      "Result of Addition : 30 \n",
      "Result of Division : 2 \n"
     ]
    }
   ],
   "source": [
    "def add_div():\n",
    "    int1 = int(input(\"Enter one integer: \"))\n",
    "    int2 = int(input(\"Enter one integer: \")) \n",
    "    add = int1 + int2\n",
    "    print(f\"Result of Addition : {int(add)} \")\n",
    "    div = int1 / int2\n",
    "    print(f\"Result of Division : {int(div)} \")\n",
    "\n",
    "add_div()"
   ]
  },
  {
   "cell_type": "raw",
   "id": "f956d138",
   "metadata": {},
   "source": []
  },
  {
   "cell_type": "raw",
   "id": "8c34aff3",
   "metadata": {},
   "source": [
    "3. Write a Python program to find the area of a triangle?"
   ]
  },
  {
   "cell_type": "code",
   "execution_count": 16,
   "id": "1c395161",
   "metadata": {},
   "outputs": [
    {
     "name": "stdout",
     "output_type": "stream",
     "text": [
      "Enter height:  5\n",
      "Enter base:   5\n",
      "Area of triangle: 12.5 cm\n"
     ]
    }
   ],
   "source": [
    "def area_tri():\n",
    "    height = int(input(\"Enter height:  \"))\n",
    "    base = int(input(\"Enter base:   \"))\n",
    "    Area = (1/2 * height * base)\n",
    "    print(f\"Area of triangle: {Area} cm\")\n",
    "\n",
    "area_tri()"
   ]
  },
  {
   "cell_type": "raw",
   "id": "ae472b9e",
   "metadata": {},
   "source": []
  },
  {
   "cell_type": "raw",
   "id": "ffd91f10",
   "metadata": {},
   "source": [
    "4. Write a Python program to swap two variables?"
   ]
  },
  {
   "cell_type": "code",
   "execution_count": 19,
   "id": "fd42ac47",
   "metadata": {},
   "outputs": [
    {
     "name": "stdout",
     "output_type": "stream",
     "text": [
      "Enter first integer: 6666\n",
      "Enter second integer: 7777\n",
      "X after Swapping 7777\n",
      "Y after Swapping 6666\n"
     ]
    }
   ],
   "source": [
    "x = int(input(\"Enter first integer: \"))\n",
    "y = int(input(\"Enter second integer: \")) \n",
    "\n",
    "temp = x\n",
    "x = y\n",
    "y = temp\n",
    "\n",
    "print(\"X after Swapping {}\".format(x))\n",
    "print(\"Y after Swapping {}\".format(y))\n"
   ]
  },
  {
   "cell_type": "raw",
   "id": "2dc63735",
   "metadata": {},
   "source": []
  },
  {
   "cell_type": "raw",
   "id": "9fd6b719",
   "metadata": {},
   "source": [
    "5. Write a Python program to generate a random number?"
   ]
  },
  {
   "cell_type": "code",
   "execution_count": 35,
   "id": "5ebb9bda",
   "metadata": {},
   "outputs": [
    {
     "name": "stdout",
     "output_type": "stream",
     "text": [
      "993\n",
      "332\n",
      "415\n"
     ]
    }
   ],
   "source": [
    "import random\n",
    "print(random.randint(0,1000))\n",
    "print(random.randint(0,1000))\n",
    "print(random.randint(0,1000))"
   ]
  }
 ],
 "metadata": {
  "kernelspec": {
   "display_name": "Python 3 (ipykernel)",
   "language": "python",
   "name": "python3"
  },
  "language_info": {
   "codemirror_mode": {
    "name": "ipython",
    "version": 3
   },
   "file_extension": ".py",
   "mimetype": "text/x-python",
   "name": "python",
   "nbconvert_exporter": "python",
   "pygments_lexer": "ipython3",
   "version": "3.9.13"
  }
 },
 "nbformat": 4,
 "nbformat_minor": 5
}
