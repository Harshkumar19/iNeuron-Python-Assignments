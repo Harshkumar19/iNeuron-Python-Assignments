{
 "cells": [
  {
   "cell_type": "markdown",
   "id": "cdf5966e",
   "metadata": {},
   "source": [
    "# Python Assignment no : 1"
   ]
  },
  {
   "cell_type": "markdown",
   "id": "6417e13d",
   "metadata": {},
   "source": [
    "1. In the below elements which of them are values or an expression? eg:- values can be integer or string and expressions will be mathematical operators.\n",
    "*\n",
    "'hello'\n",
    "-87.8\n",
    "-\n",
    "/\n",
    "+\n",
    "6"
   ]
  },
  {
   "cell_type": "markdown",
   "id": "0dd2f134",
   "metadata": {},
   "source": [
    "Given the following examples, they can be classified as follows:\n",
    "Values == 'hello' , -87.8 , 6\n",
    "Expression == * , - , / , +  "
   ]
  },
  {
   "cell_type": "markdown",
   "id": "0a881657",
   "metadata": {},
   "source": []
  },
  {
   "cell_type": "markdown",
   "id": "e1957c67",
   "metadata": {},
   "source": [
    "2. What is the difference between string and variable?"
   ]
  },
  {
   "cell_type": "markdown",
   "id": "2992ac68",
   "metadata": {},
   "source": [
    "String == It is a data type in python. It is a sequence of one or more characters that can be in the form of constant or variables. \n",
    "Example \"Harsh is studying data science from iNeuron Full stack data science bootcamp\" \n",
    "\n",
    "Variable == The symbols that we use to store data in our python programs are called variables. In variable we can fill the data using strings.\n",
    "Example harsh = \"college is a waste of time\" \n"
   ]
  },
  {
   "cell_type": "markdown",
   "id": "5929dc51",
   "metadata": {},
   "source": []
  },
  {
   "cell_type": "markdown",
   "id": "d59a9d64",
   "metadata": {},
   "source": [
    "3. Describe three different data types."
   ]
  },
  {
   "cell_type": "markdown",
   "id": "3a4aa4fb",
   "metadata": {},
   "source": [
    "The three data types are:\n",
    "\n",
    "i. Integer - They are whole numbers that can be positive or negative, but cannot be in decimals. \n",
    "             They have unlimited length upto the limit memory size of the computer.\n",
    "             E.g.: 1,2,3,4...n\n",
    "\n",
    "ii. List   -  They are used to store one or multiple values in a single variable. \n",
    "              It is a built-in data type in python.\n",
    "              E.g.: a = [1,2,3,4]\n",
    "\n",
    "iii. Float - A built in data type. It is a number that can be positive or negative which \n",
    "             can hold one or more decimal values.\n",
    "             E.g.: 1.21, 4.009\n",
    "             "
   ]
  },
  {
   "cell_type": "markdown",
   "id": "2b01908d",
   "metadata": {},
   "source": []
  },
  {
   "cell_type": "markdown",
   "id": "9561da0f",
   "metadata": {},
   "source": [
    "4. What is an expression made up of? What do all expressions do?"
   ]
  },
  {
   "cell_type": "markdown",
   "id": "576366bf",
   "metadata": {},
   "source": [
    "An expression is a combination of constants, operators, and variables. All expressions can consist of one or more operands, and zero or more operators in order to give an output value.\n",
    "\n",
    "Example: h+a+r, x <= 20 etc."
   ]
  },
  {
   "cell_type": "markdown",
   "id": "40551064",
   "metadata": {},
   "source": []
  },
  {
   "cell_type": "markdown",
   "id": "2693dcff",
   "metadata": {},
   "source": [
    "5. This assignment statements, like spam = 10. What is the difference between an expression and a statement?"
   ]
  },
  {
   "cell_type": "markdown",
   "id": "6fc29f89",
   "metadata": {},
   "source": [
    "Expressions can be assigned or used as operands whereas statements can only be declared.\n",
    "\n",
    "Statements create side effects to be useful, while expressions are values or execute to values.\n",
    "\n",
    "Expressions are unique in meaning, while statements are double-sided in execution.\n",
    "\n",
    "Statements are the whole structure, while expressions are the building blocks. \n",
    "\n",
    "For example, a line or a block of code is a statement."
   ]
  },
  {
   "cell_type": "markdown",
   "id": "86815c17",
   "metadata": {},
   "source": []
  },
  {
   "cell_type": "markdown",
   "id": "1cb50e78",
   "metadata": {},
   "source": [
    "6. After running the following code, what does the variable bacon contain?\n",
    "bacon = 22\n",
    "bacon + 1"
   ]
  },
  {
   "cell_type": "markdown",
   "id": "c0b4569d",
   "metadata": {},
   "source": [
    "When this code will be executed 1 will get added to 22 that is the defined value of variable bacon. \n",
    "The output will be 23. "
   ]
  },
  {
   "cell_type": "markdown",
   "id": "a2f23be4",
   "metadata": {},
   "source": []
  },
  {
   "cell_type": "markdown",
   "id": "456a53a1",
   "metadata": {},
   "source": [
    "7. What should the values of the following two terms be?\n",
    "'spam'+'spamspam'\n",
    "'spam'*3"
   ]
  },
  {
   "cell_type": "markdown",
   "id": "c72f417a",
   "metadata": {},
   "source": [
    "Both the following terms will have the same output value: 'spamspamspam'"
   ]
  },
  {
   "cell_type": "markdown",
   "id": "561917c5",
   "metadata": {},
   "source": []
  },
  {
   "cell_type": "markdown",
   "id": "88d03cf7",
   "metadata": {},
   "source": [
    "8. Why is eggs a valid variable name while 100 is invalid?"
   ]
  },
  {
   "cell_type": "markdown",
   "id": "d86518da",
   "metadata": {},
   "source": [
    "When declaring varibale, we cannot start with numbers. But this can be a variable instead, \n",
    "eggs100 = \"Harsh variable\""
   ]
  },
  {
   "cell_type": "markdown",
   "id": "b09080c5",
   "metadata": {},
   "source": []
  },
  {
   "cell_type": "markdown",
   "id": "43252399",
   "metadata": {},
   "source": [
    "9. What three functions can be used to get the integer, floating-point number, or string\n",
    "version of a value?"
   ]
  },
  {
   "cell_type": "markdown",
   "id": "22f23eaa",
   "metadata": {},
   "source": [
    "for integer we can use int() function.\n",
    "for floating-point number we can use float() function.\n",
    "for string we can use str() function. "
   ]
  },
  {
   "cell_type": "markdown",
   "id": "773da525",
   "metadata": {},
   "source": []
  },
  {
   "cell_type": "markdown",
   "id": "e067a159",
   "metadata": {},
   "source": [
    "10. Why does this expression cause an error? How can you fix it?\n",
    "'I have eaten'+ 99 + 'burritos'"
   ]
  },
  {
   "cell_type": "markdown",
   "id": "68fe06b5",
   "metadata": {},
   "source": [
    "This expression caused an error because we tried to concatenate two diffeerent data types i.e. string with integer.\n",
    "We can fix this by converting integer into string\n",
    "'I have eaten' + '99' + 'burritos'"
   ]
  }
 ],
 "metadata": {
  "kernelspec": {
   "display_name": "Python 3 (ipykernel)",
   "language": "python",
   "name": "python3"
  },
  "language_info": {
   "codemirror_mode": {
    "name": "ipython",
    "version": 3
   },
   "file_extension": ".py",
   "mimetype": "text/x-python",
   "name": "python",
   "nbconvert_exporter": "python",
   "pygments_lexer": "ipython3",
   "version": "3.9.13"
  }
 },
 "nbformat": 4,
 "nbformat_minor": 5
}
